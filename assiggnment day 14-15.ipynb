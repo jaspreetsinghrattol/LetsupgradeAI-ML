{
 "cells": [
  {
   "cell_type": "code",
   "execution_count": 3,
   "metadata": {},
   "outputs": [],
   "source": [
    "import numpy as np"
   ]
  },
  {
   "cell_type": "markdown",
   "metadata": {},
   "source": [
    " 1. Create a 3x3x3 array with random values"
   ]
  },
  {
   "cell_type": "code",
   "execution_count": 4,
   "metadata": {},
   "outputs": [
    {
     "name": "stdout",
     "output_type": "stream",
     "text": [
      "3x3x3 Array:\n",
      "\n",
      "[[[0.3305046  0.02878003 0.48898516]\n",
      "  [0.84647632 0.90074625 0.46144762]\n",
      "  [0.91795274 0.22500729 0.97818999]]\n",
      "\n",
      " [[0.24169106 0.33651116 0.36205574]\n",
      "  [0.10251786 0.80538827 0.33703934]\n",
      "  [0.50438123 0.40891992 0.91713611]]\n",
      "\n",
      " [[0.67645321 0.43107565 0.99951133]\n",
      "  [0.9202667  0.35683175 0.18986864]\n",
      "  [0.87095232 0.47279614 0.3711111 ]]]\n"
     ]
    }
   ],
   "source": [
    "x = np.random.random((3,3,3))\n",
    "print('3x3x3 Array:\\n')\n",
    "print(x)"
   ]
  },
  {
   "cell_type": "markdown",
   "metadata": {},
   "source": [
    "# 2.Create a 5x5 matrix with values 1,2,3,4 just below the diagonal"
   ]
  },
  {
   "cell_type": "code",
   "execution_count": 5,
   "metadata": {},
   "outputs": [
    {
     "name": "stdout",
     "output_type": "stream",
     "text": [
      "Matrix with 1,2,3,4 just below Diagonal:\n",
      "\n",
      " [[0 0 0 0 0]\n",
      " [1 0 0 0 0]\n",
      " [0 2 0 0 0]\n",
      " [0 0 3 0 0]\n",
      " [0 0 0 4 0]]\n"
     ]
    }
   ],
   "source": [
    "\n",
    "matrix = np.zeros((5,5))\n",
    "matrix = np.diag(1+np.arange(4),k = -1)\n",
    "print('Matrix with 1,2,3,4 just below Diagonal:\\n\\n', matrix)"
   ]
  },
  {
   "cell_type": "markdown",
   "metadata": {},
   "source": [
    "# 3.Create a 8x8 matrix and fill it with a checkerboard pattern"
   ]
  },
  {
   "cell_type": "code",
   "execution_count": 6,
   "metadata": {},
   "outputs": [
    {
     "name": "stdout",
     "output_type": "stream",
     "text": [
      "Check Borad Pattern:\n",
      "\n",
      "[[0 1 0 1 0 1 0 1]\n",
      " [1 0 1 0 1 0 1 0]\n",
      " [0 1 0 1 0 1 0 1]\n",
      " [1 0 1 0 1 0 1 0]\n",
      " [0 1 0 1 0 1 0 1]\n",
      " [1 0 1 0 1 0 1 0]\n",
      " [0 1 0 1 0 1 0 1]\n",
      " [1 0 1 0 1 0 1 0]]\n"
     ]
    }
   ],
   "source": [
    "x = np.zeros((8,8), dtype=int)\n",
    "x[1::2,::2] = 1\n",
    "x[::2,1::2] = 1\n",
    "print('Check Borad Pattern:\\n')\n",
    "print(x)"
   ]
  },
  {
   "cell_type": "markdown",
   "metadata": {},
   "source": [
    "# 4. Normalize a 5x5 random matrix"
   ]
  },
  {
   "cell_type": "code",
   "execution_count": 7,
   "metadata": {},
   "outputs": [
    {
     "name": "stdout",
     "output_type": "stream",
     "text": [
      "Original Array:\n",
      "\n",
      "[[-0.68377848  2.24271961  0.55336895  2.0024371  -1.14829854]\n",
      " [ 0.39093749 -0.27012772 -0.0409178   1.46139788  0.32165983]\n",
      " [ 0.75082471  0.62477304 -0.48076031 -0.84197057 -1.22593017]\n",
      " [-0.47284381 -0.05180871  0.02383359 -0.36896251 -0.26442411]\n",
      " [-1.91362232  1.1516695   0.5169569  -0.79984008 -0.48904475]]\n",
      "\n",
      "After normalization:\n",
      "\n",
      "[[0.29589573 1.         0.59354868 0.94218894 0.18413398]\n",
      " [0.55446829 0.39541852 0.45056556 0.81201697 0.53780035]\n",
      " [0.64105578 0.61072823 0.34474113 0.25783532 0.1654561 ]\n",
      " [0.34664581 0.44794524 0.46614449 0.37163925 0.39679079]\n",
      " [0.         0.73749751 0.58478808 0.26797175 0.34274792]]\n"
     ]
    }
   ],
   "source": [
    "x= np.random.randn(5,5)\n",
    "print(\"Original Array:\\n\")\n",
    "print(x)\n",
    "\n",
    "xmax, xmin = x.max(), x.min()\n",
    "x = (x - xmin)/(xmax - xmin)\n",
    "\n",
    "print(\"\\nAfter normalization:\\n\")\n",
    "print(x)"
   ]
  },
  {
   "cell_type": "markdown",
   "metadata": {},
   "source": [
    "# 5.  How to find common values between two arrays?"
   ]
  },
  {
   "cell_type": "code",
   "execution_count": 8,
   "metadata": {},
   "outputs": [
    {
     "name": "stdout",
     "output_type": "stream",
     "text": [
      "Array1:  [ 0 10 20 40 60]\n",
      "Array2:  [10, 30, 40]\n",
      "Common values between two arrays: [10 40]\n"
     ]
    }
   ],
   "source": [
    "array1 = np.array([0, 10, 20, 40, 60])\n",
    "array2 = [10, 30, 40]\n",
    "print(\"Array1: \", array1)\n",
    "print(\"Array2: \", array2)\n",
    "print(\"Common values between two arrays:\", np.intersect1d(array1, array2))"
   ]
  },
  {
   "cell_type": "markdown",
   "metadata": {},
   "source": [
    "# 6.How to get the dates of yesterday, today and tomorrow?"
   ]
  },
  {
   "cell_type": "code",
   "execution_count": 9,
   "metadata": {},
   "outputs": [
    {
     "name": "stdout",
     "output_type": "stream",
     "text": [
      "Yesterday:  2020-07-26\n",
      "Today:  2020-07-27\n",
      "Tomorrow:  2020-07-28\n"
     ]
    }
   ],
   "source": [
    "import datetime as dt\n",
    "\n",
    "today = dt.date.today()\n",
    "yesterday = today - dt.timedelta(days = 1)\n",
    "tomorrow = today + dt.timedelta(days = 1) \n",
    "\n",
    "print('Yesterday: ',yesterday)\n",
    "print('Today: ', today)\n",
    "print('Tomorrow: ', tomorrow)"
   ]
  },
  {
   "cell_type": "markdown",
   "metadata": {},
   "source": [
    "# 7. Consider two random array A and B, check if they are equal"
   ]
  },
  {
   "cell_type": "code",
   "execution_count": 10,
   "metadata": {},
   "outputs": [
    {
     "name": "stdout",
     "output_type": "stream",
     "text": [
      "Array1:\n",
      " [[ 1 23  5]\n",
      " [ 6  9 40]]\n",
      "Array2:\n",
      " [[ 1 23  5]\n",
      " [ 6  9 40]]\n",
      "\n",
      "Result is True if the Arrays are Equal \n",
      "Result is False if the Arrays are Not Equal \n"
     ]
    },
    {
     "data": {
      "text/plain": [
       "True"
      ]
     },
     "execution_count": 10,
     "metadata": {},
     "output_type": "execute_result"
    }
   ],
   "source": [
    "a = np.array([[1,23,5],[6,9,40]])\n",
    "b =  np.array([[1,23,5],[6,9,40]])\n",
    "print('Array1:\\n', a)\n",
    "print('Array2:\\n', b)\n",
    "print('\\nResult is True if the Arrays are Equal \\nResult is False if the Arrays are Not Equal ')\n",
    "np.array_equal(a,b)"
   ]
  },
  {
   "cell_type": "markdown",
   "metadata": {},
   "source": [
    "# 8.Create random vector of size 10 and replace the maximum value by 0 "
   ]
  },
  {
   "cell_type": "code",
   "execution_count": 11,
   "metadata": {},
   "outputs": [
    {
     "name": "stdout",
     "output_type": "stream",
     "text": [
      "Vector:  [  1  45 867  90  48  94 100 166 867 110]\n",
      "Length of Vector:  10\n",
      "Maximum value: 867\n",
      "Replacing 867 by 0: [  1  45   0  90  48  94 100 166   0 110]\n"
     ]
    }
   ],
   "source": [
    "vector = np.array([1,45,867,90,48,94,100,166,867,110])\n",
    "print('Vector: ', vector)\n",
    "print('Length of Vector: ', len(vector))\n",
    "\n",
    "vector_max = vector.max() \n",
    "print('Maximum value:', vector_max)\n",
    "index= np.where(vector == vector_max)\n",
    "vector[index] = 0\n",
    "\n",
    "print('Replacing {} by 0: {}'.format(vector_max, vector))"
   ]
  },
  {
   "cell_type": "markdown",
   "metadata": {},
   "source": [
    "# 9. How to print all the values of an array?"
   ]
  },
  {
   "cell_type": "code",
   "execution_count": 12,
   "metadata": {},
   "outputs": [
    {
     "name": "stdout",
     "output_type": "stream",
     "text": [
      "For 1-D Array:\n",
      "The element at index 0 is: 12\n",
      "The element at index 1 is: 34\n",
      "The element at index 2 is: 67\n",
      "The element at index 3 is: 89\n",
      "\n",
      "For 2-D Array:\n",
      "The element at index 0 is: [13 57 45]\n",
      "The element at index 1 is: [34 76 88]\n",
      "The element at index 2 is: [92 21 19]\n",
      "The element at index 3 is: [98 67  0]\n"
     ]
    }
   ],
   "source": [
    "# 1-D Array :\n",
    "print('For 1-D Array:')\n",
    "x = np.array([12, 34, 67, 89])\n",
    "for i in range(len(x)):\n",
    "    print(f\"The element at index {i} is: {x[i]}\")\n",
    "\n",
    "# 2-D Array: \n",
    "print('\\nFor 2-D Array:')\n",
    "y = np.array([[13,57,45],[34,76,88],[92,21,19],[98,67,0]])\n",
    "for i in range(len(y)):\n",
    "    print(f\"The element at index {i} is: {y[i]}\")"
   ]
  },
  {
   "cell_type": "markdown",
   "metadata": {},
   "source": [
    "# 10.Subtract the mean of each row of a matrix"
   ]
  },
  {
   "cell_type": "code",
   "execution_count": 13,
   "metadata": {},
   "outputs": [
    {
     "name": "stdout",
     "output_type": "stream",
     "text": [
      "Initial Array:\n",
      " [[  1 100   0   0]\n",
      " [  2 110   0   0]\n",
      " [  3 120   0   0]]\n",
      "Mean of Each row:  [25.25 28.   30.75]\n",
      "\n",
      "Resultant Matrix After Subtracting Mean:\n",
      " [[-24.25  74.75 -25.25 -25.25]\n",
      " [-26.    82.   -28.   -28.  ]\n",
      " [-27.75  89.25 -30.75 -30.75]]\n"
     ]
    }
   ],
   "source": [
    "\n",
    "arr = np.array([[1, 100, 0, 0], [2, 110, 0, 0], [3, 120, 0, 0]])\n",
    "print('Initial Array:\\n', arr)\n",
    "print('Mean of Each row: ',arr.mean(axis=1))\n",
    "mean = arr - arr.mean(axis=1, keepdims=True) \n",
    "print('\\nResultant Matrix After Subtracting Mean:\\n',mean)"
   ]
  },
  {
   "cell_type": "markdown",
   "metadata": {},
   "source": [
    "# 11.Consider a given vector, how to add 1 to each element indexed by a second vector (be careful with repeated indices)? "
   ]
  },
  {
   "cell_type": "code",
   "execution_count": 14,
   "metadata": {},
   "outputs": [
    {
     "name": "stdout",
     "output_type": "stream",
     "text": [
      "Initial Vector:\n",
      " [1. 1. 1. 1. 1. 1. 1. 1. 1. 1.]\n",
      "Random Values:\n",
      " [8 8 6 6 6 9 3 1 3 8 2 2 8 5 4 7 0 3 5 4]\n",
      "Resultant Vector:\n",
      " [2. 2. 3. 4. 3. 3. 4. 2. 5. 2.]\n"
     ]
    }
   ],
   "source": [
    "Z = np.ones(10)\n",
    "print(\"Initial Vector:\\n\",Z)\n",
    "I = np.random.randint(0, len(Z),20)\n",
    "print(\"Random Values:\\n\",I)\n",
    "Z += np.bincount(I, minlength=len(Z))\n",
    "print(\"Resultant Vector:\\n\",Z)"
   ]
  },
  {
   "cell_type": "markdown",
   "metadata": {},
   "source": [
    "# 12.How to get the diagonal of a dot product?"
   ]
  },
  {
   "cell_type": "code",
   "execution_count": 15,
   "metadata": {},
   "outputs": [
    {
     "name": "stdout",
     "output_type": "stream",
     "text": [
      "Array A:\n",
      " [[8 3 6]\n",
      " [5 0 1]\n",
      " [2 6 8]]\n",
      "Array B:\n",
      " [[3 5 5]\n",
      " [4 2 5]\n",
      " [1 1 4]]\n",
      "\n",
      "Dot product:\n",
      " [[42 52 79]\n",
      " [16 26 29]\n",
      " [38 30 72]]\n",
      "\n",
      "The Diagonal Elements are:\n",
      " [42 26 72]\n"
     ]
    }
   ],
   "source": [
    "A = np.random.randint(0,10,(3,3))\n",
    "B= np.random.randint(0,10,(3,3))\n",
    "\n",
    "print(\"Array A:\\n\", A)\n",
    "print(\"Array B:\\n\", B)\n",
    "\n",
    "print('\\nDot product:\\n',np.dot(A,B))\n",
    "dot = np.diag(np.dot(A, B))\n",
    "print('\\nThe Diagonal Elements are:\\n', dot)"
   ]
  },
  {
   "cell_type": "markdown",
   "metadata": {},
   "source": [
    "# 13.How to find the most frequent value in an array?"
   ]
  },
  {
   "cell_type": "code",
   "execution_count": 16,
   "metadata": {},
   "outputs": [
    {
     "name": "stdout",
     "output_type": "stream",
     "text": [
      "Array: [8 9 7 2 9 6 8 2 9 7 3 8 3 3 2 8 4 8 2 2 6 4 7 8 7 1 2 0 5 0]\n",
      "Most Frequent Value: 2\n"
     ]
    }
   ],
   "source": [
    "\n",
    "Z = np.random.randint(0,10,30)\n",
    "print (\"Array:\", Z)\n",
    "print('Most Frequent Value:', np.bincount(Z).argmax())"
   ]
  },
  {
   "cell_type": "markdown",
   "metadata": {},
   "source": [
    "# 14.How to get the n largest values of an array"
   ]
  },
  {
   "cell_type": "code",
   "execution_count": 17,
   "metadata": {},
   "outputs": [
    {
     "name": "stdout",
     "output_type": "stream",
     "text": [
      "Enter the value of n: 5\n",
      "5 Largest values in array:  [95 96 97 98 99]\n"
     ]
    }
   ],
   "source": [
    "Z = np.arange(100)\n",
    "np.random.shuffle(Z)\n",
    "n = int(input('Enter the value of n: '))\n",
    "print(f\"{n} Largest values in array: \", Z[np.argsort(Z)[-n:]])"
   ]
  },
  {
   "cell_type": "markdown",
   "metadata": {},
   "source": [
    "# 15.How to create a record array from a regular array?"
   ]
  },
  {
   "cell_type": "code",
   "execution_count": 18,
   "metadata": {},
   "outputs": [
    {
     "name": "stdout",
     "output_type": "stream",
     "text": [
      "For a Single Array:\n",
      "\n",
      "Regular Array:\n",
      " [['Riya' '98' '99']\n",
      " ['Ankita' '90' '92']\n",
      " ['Divyam' '89' '90']]\n",
      "\n",
      "Record Array: [(b'Riya', 98, 99) (b'Ankita', 90, 92) (b'Divyam', 89, 90)]\n",
      "Type of Result: <class 'numpy.recarray'>\n"
     ]
    }
   ],
   "source": [
    "print('For a Single Array:\\n')\n",
    "x3 = np.array([['Riya',98, 99],['Ankita', 90, 92],['Divyam', 89, 90]])\n",
    "\n",
    "print('Regular Array:\\n', x3)\n",
    "rec = np.core.records.fromarrays(x3.T,names='name,mks1,mks2',formats='S80, i8, i8') # The arrays are now transposed'\n",
    "\n",
    "print('\\nRecord Array:', rec)\n",
    "print('Type of Result:', type(rec))"
   ]
  }
 ],
 "metadata": {
  "kernelspec": {
   "display_name": "Python 3",
   "language": "python",
   "name": "python3"
  },
  "language_info": {
   "codemirror_mode": {
    "name": "ipython",
    "version": 3
   },
   "file_extension": ".py",
   "mimetype": "text/x-python",
   "name": "python",
   "nbconvert_exporter": "python",
   "pygments_lexer": "ipython3",
   "version": "3.7.6"
  }
 },
 "nbformat": 4,
 "nbformat_minor": 2
}
