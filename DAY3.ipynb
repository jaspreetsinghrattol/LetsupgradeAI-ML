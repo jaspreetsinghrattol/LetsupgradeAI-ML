{
 "cells": [
  {
   "cell_type": "markdown",
   "metadata": {},
   "source": [
    "# Write a program to subtract two complex numbers in python"
   ]
  },
  {
   "cell_type": "code",
   "execution_count": 12,
   "metadata": {},
   "outputs": [
    {
     "name": "stdout",
     "output_type": "stream",
     "text": [
      "Enter complex number 1 : 5+3j\n",
      "Enter complex number 2 : 2+2j\n",
      "Subtraction of two complex numbers is :  (3+1j)\n"
     ]
    }
   ],
   "source": [
    "c1 = complex(input(\"Enter complex number 1 : \"))\n",
    "c2 = complex(input(\"Enter complex number 2 : \"))\n",
    "print(\"Subtraction of two complex numbers is : \",c1 - c2)"
   ]
  },
  {
   "cell_type": "markdown",
   "metadata": {},
   "source": [
    "# Write a program to find the fourth root of a number"
   ]
  },
  {
   "cell_type": "code",
   "execution_count": 21,
   "metadata": {},
   "outputs": [
    {
     "name": "stdout",
     "output_type": "stream",
     "text": [
      "Enter a number : 16\n",
      "Fourth root of {0} is {1} {16, 2.0}\n"
     ]
    }
   ],
   "source": [
    "import math\n",
    "import random\n",
    "\n",
    "num = int(input(\"Enter a number : \"))\n",
    "fourthroot = ()num**0.25\n",
    "print(\"Fourth root of {0} is {1}\",{num,fourthroot})\n"
   ]
  },
  {
   "cell_type": "markdown",
   "metadata": {},
   "source": [
    "# Write a program to swap two numbers in python with the help of a temporary variable"
   ]
  },
  {
   "cell_type": "code",
   "execution_count": 14,
   "metadata": {},
   "outputs": [
    {
     "name": "stdout",
     "output_type": "stream",
     "text": [
      "Enter the value for A : 10\n",
      "Enter the value for B : 20\n",
      "Values after Swaping : \n",
      "A :  20\n",
      "B :  10\n"
     ]
    }
   ],
   "source": [
    "a = int(input(\"Enter the value for A : \"))\n",
    "b = int(input(\"Enter the value for B : \"))\n",
    "temp = b\n",
    "b = a\n",
    "a = temp\n",
    "print(\"Values after Swaping : \")\n",
    "print(\"A : \",a)\n",
    "print(\"B : \",b)"
   ]
  },
  {
   "cell_type": "markdown",
   "metadata": {},
   "source": [
    "# Write a program to swap two numbers in python without using a temporary variable"
   ]
  },
  {
   "cell_type": "code",
   "execution_count": 13,
   "metadata": {},
   "outputs": [
    {
     "name": "stdout",
     "output_type": "stream",
     "text": [
      "Enter the value for A : 10\n",
      "Enter the value for B : 20\n",
      "Values after Swaping : \n",
      "A :  20\n",
      "B :  10\n"
     ]
    }
   ],
   "source": [
    "a = int(input(\"Enter the value for A : \"))\n",
    "b = int(input(\"Enter the value for B : \"))\n",
    "a = a+b\n",
    "b = a-b\n",
    "a = a-b\n",
    "print(\"Values after Swaping : \")\n",
    "print(\"A : \",a)\n",
    "print(\"B : \",b)"
   ]
  },
  {
   "cell_type": "markdown",
   "metadata": {},
   "source": [
    "# Write a program to convert fahrenheit to kelvin and celsius both"
   ]
  },
  {
   "cell_type": "code",
   "execution_count": 19,
   "metadata": {},
   "outputs": [
    {
     "name": "stdout",
     "output_type": "stream",
     "text": [
      "Enter the temperature in fahrenheit: 35\n",
      "35.00 Fahrenheit is: 1.67 Celsius\n",
      "35.00 Fahrenheit is: 275.167 Kelvin\n"
     ]
    }
   ],
   "source": [
    "fah = float(input(\"Enter the temperature in fahrenheit: \"))\n",
    "cel = (fah - 32) * 5/9\n",
    "print('%.2f Fahrenheit is: %0.2f Celsius' %(fah, cel))\n",
    "\n",
    "kel = 273.5 + ((fah - 32.0) * (5.0/9.0)) \n",
    "print(\"%.2f Fahrenheit is: %.3f Kelvin\" %(fah, kel))"
   ]
  },
  {
   "cell_type": "markdown",
   "metadata": {},
   "source": [
    "# Write a program to demonstrate all the available data types in python. "
   ]
  },
  {
   "cell_type": "code",
   "execution_count": 20,
   "metadata": {},
   "outputs": [
    {
     "name": "stdout",
     "output_type": "stream",
     "text": [
      "<class 'int'>\n",
      "<class 'float'>\n",
      "<class 'str'>\n",
      "<class 'complex'>\n"
     ]
    }
   ],
   "source": [
    "int_num = 10\n",
    "float_num = 11.34\n",
    "str = \"Hello World\"\n",
    "comp = 2+3j\n",
    "\n",
    "print(type(int_num))\n",
    "print(type(float_num))\n",
    "print(type(str))\n",
    "print(type(comp))"
   ]
  },
  {
   "cell_type": "code",
   "execution_count": null,
   "metadata": {},
   "outputs": [],
   "source": []
  }
 ],
 "metadata": {
  "kernelspec": {
   "display_name": "Python 3",
   "language": "python",
   "name": "python3"
  },
  "language_info": {
   "codemirror_mode": {
    "name": "ipython",
    "version": 3
   },
   "file_extension": ".py",
   "mimetype": "text/x-python",
   "name": "python",
   "nbconvert_exporter": "python",
   "pygments_lexer": "ipython3",
   "version": "3.7.6"
  }
 },
 "nbformat": 4,
 "nbformat_minor": 4
}
